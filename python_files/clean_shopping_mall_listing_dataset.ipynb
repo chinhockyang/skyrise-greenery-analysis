{
 "cells": [
  {
   "cell_type": "markdown",
   "metadata": {},
   "source": [
    "# Clean Shopping Mall Listing Dataset"
   ]
  },
  {
   "cell_type": "code",
   "execution_count": 1,
   "metadata": {},
   "outputs": [],
   "source": [
    "from selenium import webdriver      # conda install -c conda-forge selenium\n",
    "from time import sleep\n",
    "from selenium.webdriver.chrome.options import Options\n",
    "from selenium.webdriver.common.by import By\n",
    "from selenium.webdriver.common.keys import Keys\n",
    "\n",
    "import pandas as pd\n",
    "import re\n",
    "import os\n",
    "import json\n",
    "\n",
    "# Geospatial\n",
    "import geopandas as gpd\n",
    "import geojson\n",
    "from shapely.geometry import Polygon, MultiPolygon, shape\n",
    "\n",
    "# Utilities\n",
    "from utility import retrieve_from_onemap, convert_geojson_to_geometry, export_df_to_shapefile, retrieve_onemap_population_data\n",
    "\n",
    "# Load API Token\n",
    "from dotenv import load_dotenv\n",
    "load_dotenv()\n",
    "onemap_token = os.getenv('onemap_token')\n",
    "\n",
    "\n",
    "import warnings\n",
    "warnings.filterwarnings(\"ignore\")"
   ]
  },
  {
   "cell_type": "code",
   "execution_count": null,
   "metadata": {},
   "outputs": [],
   "source": [
    "# configuration tool that can be passed into webdriver.Chrome\n",
    "options = Options()\n",
    "\n",
    "# windows\n",
    "# https://www.youtube.com/watch?v=Xjv1sY630Uc \n",
    "# PATH = \"C:\\Program Files\\chromedriver.exe\"\n",
    "# driver = webdriver.Chrome(PATH)\n",
    "\n",
    "# macOS\n",
    "# https://www.edureka.co/community/52315/how-to-setup-chrome-driver-with-selenium-on-macos\n",
    "# need to put chromedriver.exe into /usr/local/bin\n",
    "# and type in terminal (after cd into /usr/local/bin)\n",
    "#  xattr -d com.apple.quarantine chromedriver \n",
    "driver = webdriver.Chrome()"
   ]
  },
  {
   "cell_type": "code",
   "execution_count": null,
   "metadata": {},
   "outputs": [],
   "source": [
    "driver.get(\"https://www.google.com/maps\")"
   ]
  },
  {
   "cell_type": "markdown",
   "metadata": {},
   "source": [
    "## Scrape Google Review Data for Shopping Malls"
   ]
  },
  {
   "cell_type": "code",
   "execution_count": null,
   "metadata": {},
   "outputs": [],
   "source": [
    "df_shopping_malls = pd.read_csv(\"../data/shopping_mall_listing.csv\")\n",
    "df_shopping_malls[\"postal_code\"] = df_shopping_malls[\"postal_code\"].astype(str)\n",
    "df_shopping_malls[\"postal_code\"] = df_shopping_malls[\"postal_code\"].apply(\n",
    "    lambda x: f\"{'0' * (6 - len(x))}{x}\" if len(x) == 5 else x\n",
    ")"
   ]
  },
  {
   "cell_type": "code",
   "execution_count": null,
   "metadata": {},
   "outputs": [],
   "source": [
    "# search for mall names + \"mall Singapore\"\n",
    "\n",
    "for idx, row in df_shopping_malls.iterrows():\n",
    "    searchbox = driver.find_element(By.ID, \"searchboxinput\")\n",
    "    searchbox.clear()\n",
    "    searchbox.send_keys(f'{row[\"mall_names\"]} mall Singapore')\n",
    "    print(row[\"mall_names\"])\n",
    "    searchbox.send_keys(Keys.ENTER)\n",
    "\n",
    "    sleep(3)\n",
    "\n",
    "    new_tags = driver.find_elements(By.CLASS_NAME, 'BHOKXe')\n",
    "\n",
    "    for tag in new_tags:\n",
    "        info = tag.get_attribute(\"aria-label\")\n",
    "        print(info)\n",
    "\n",
    "        cleaned_info = re.sub(\"(?<=\\d)\\,(?=\\d)|([a-z])|\\s*\", \"\", info)\n",
    "        print(cleaned_info)\n",
    "        print(\"-\"*30)\n",
    "        df_shopping_malls.loc[idx, f'{cleaned_info.split(\",\")[0]} stars'] = int(cleaned_info.split(\",\")[1])"
   ]
  },
  {
   "cell_type": "code",
   "execution_count": null,
   "metadata": {},
   "outputs": [],
   "source": [
    "# search for mall names only \n",
    "\n",
    "for idx, row in df_shopping_malls[df_shopping_malls[\"5 stars\"].isna()].iterrows():\n",
    "    searchbox = driver.find_element(By.ID, \"searchboxinput\")\n",
    "    searchbox.clear()\n",
    "    searchbox.send_keys(f'{row[\"mall_names\"]}')\n",
    "    print(row[\"mall_names\"])\n",
    "    searchbox.send_keys(Keys.ENTER)\n",
    "\n",
    "    sleep(3)\n",
    "\n",
    "    new_tags = driver.find_elements(By.CLASS_NAME, 'BHOKXe')\n",
    "\n",
    "    if len(new_tags) == 0:\n",
    "        print(row[\"mall_names\"])\n",
    "\n",
    "    for tag in new_tags:\n",
    "        info = tag.get_attribute(\"aria-label\")\n",
    "        cleaned_info = re.sub(\"(?<=\\d)\\,(?=\\d)|([a-z])|\\s*\", \"\", info)\n",
    "        print(cleaned_info)\n",
    "        df_shopping_malls.loc[idx, f'{cleaned_info.split(\",\")[0]} stars'] = int(cleaned_info.split(\",\")[1])"
   ]
  },
  {
   "cell_type": "code",
   "execution_count": null,
   "metadata": {},
   "outputs": [],
   "source": [
    "df_shopping_malls[df_shopping_malls[\"5 stars\"].isna()]"
   ]
  },
  {
   "cell_type": "code",
   "execution_count": null,
   "metadata": {},
   "outputs": [],
   "source": [
    "# Shopping malls that can't be web-scraped through Google Image\n",
    "\n",
    "# Bugis Junction\n",
    "df_shopping_malls.loc[5, \"5 stars\"] = 6792\n",
    "df_shopping_malls.loc[5, \"4 stars\"] = 4402\n",
    "df_shopping_malls.loc[5, \"3 stars\"] = 1286\n",
    "df_shopping_malls.loc[5, \"2 stars\"] = 121\n",
    "df_shopping_malls.loc[5, \"1 stars\"] = 151\n",
    "\n",
    "# Cathay Cineleisure Orchard\n",
    "df_shopping_malls.loc[8, \"5 stars\"] = 481\n",
    "df_shopping_malls.loc[8, \"4 stars\"] = 293\n",
    "df_shopping_malls.loc[8, \"3 stars\"] = 127\n",
    "df_shopping_malls.loc[8, \"2 stars\"] = 28\n",
    "df_shopping_malls.loc[8, \"1 stars\"] = 46\n",
    "\n",
    "# Holland V Shopping Mall\n",
    "df_shopping_malls.loc[19, \"5 stars\"] = 216\n",
    "df_shopping_malls.loc[19, \"4 stars\"] = 183\n",
    "df_shopping_malls.loc[19, \"3 stars\"] = 113\n",
    "df_shopping_malls.loc[19, \"2 stars\"] = 26\n",
    "df_shopping_malls.loc[19, \"1 stars\"] = 20\n",
    "\n",
    "# People's Park Complex\n",
    "df_shopping_malls.loc[38, \"5 stars\"] = 842\n",
    "df_shopping_malls.loc[38, \"4 stars\"] = 652\n",
    "df_shopping_malls.loc[38, \"3 stars\"] = 436\n",
    "df_shopping_malls.loc[38, \"2 stars\"] = 81\n",
    "df_shopping_malls.loc[38, \"1 stars\"] = 64\n",
    "\n",
    "# Downtown East\n",
    "df_shopping_malls.loc[68, \"5 stars\"] = 4761\n",
    "df_shopping_malls.loc[68, \"4 stars\"] = 2842\n",
    "df_shopping_malls.loc[68, \"3 stars\"] = 1030\n",
    "df_shopping_malls.loc[68, \"2 stars\"] = 135\n",
    "df_shopping_malls.loc[68, \"1 stars\"] = 149\n",
    "\n",
    "# Rivervale Mall\n",
    "df_shopping_malls.loc[118, \"5 stars\"] = 1102\n",
    "df_shopping_malls.loc[118, \"4 stars\"] = 833\n",
    "df_shopping_malls.loc[118, \"3 stars\"] = 702\n",
    "df_shopping_malls.loc[118, \"2 stars\"] = 137\n",
    "df_shopping_malls.loc[118, \"1 stars\"] = 127\n",
    "\n",
    "# Beauty World Plaza\n",
    "df_shopping_malls.loc[124, \"5 stars\"] = 96\n",
    "df_shopping_malls.loc[124, \"4 stars\"] = 72\n",
    "df_shopping_malls.loc[124, \"3 stars\"] = 76\n",
    "df_shopping_malls.loc[124, \"2 stars\"] = 28\n",
    "df_shopping_malls.loc[124, \"1 stars\"] = 14\n",
    "\n",
    "# Yew Tee Square\n",
    "df_shopping_malls.loc[140, \"5 stars\"] = 23\n",
    "df_shopping_malls.loc[140, \"4 stars\"] = 12\n",
    "df_shopping_malls.loc[140, \"3 stars\"] = 7\n",
    "df_shopping_malls.loc[140, \"2 stars\"] = 1\n",
    "df_shopping_malls.loc[140, \"1 stars\"] = 2\n",
    "\n",
    "# Boon Lay Shopping Centre\n",
    "df_shopping_malls.loc[153, \"5 stars\"] = 386\n",
    "df_shopping_malls.loc[153, \"4 stars\"] = 211\n",
    "df_shopping_malls.loc[153, \"3 stars\"] = 96\n",
    "df_shopping_malls.loc[153, \"2 stars\"] = 24\n",
    "df_shopping_malls.loc[153, \"1 stars\"] = 19"
   ]
  },
  {
   "cell_type": "code",
   "execution_count": null,
   "metadata": {},
   "outputs": [],
   "source": [
    "# Drop other shopping malls that are duplicated or ceased operations\n",
    "df_shopping_malls.dropna(subset=[\"5 stars\"], inplace=True)"
   ]
  },
  {
   "cell_type": "code",
   "execution_count": null,
   "metadata": {},
   "outputs": [],
   "source": [
    "driver.close()"
   ]
  },
  {
   "cell_type": "markdown",
   "metadata": {},
   "source": [
    "## Redoing Geocoding of Shopping Malls"
   ]
  },
  {
   "cell_type": "code",
   "execution_count": null,
   "metadata": {},
   "outputs": [],
   "source": [
    "for idx, row in df_shopping_malls.iterrows():\n",
    "    query = retrieve_from_onemap(onemap_token, \"commonapi/search\", payload={\"searchVal\": f\"{row['mall_names']} Singapore {row['postal_code']}\", \"returnGeom\": \"Y\", \"getAddrDetails\": \"Y\"})\n",
    "\n",
    "    if len(query) > 0:\n",
    "        results = query.loc[0, \"results\"]\n",
    "        df_shopping_malls.loc[idx, \"search_result_building\"] = results[\"BUILDING\"]\n",
    "        df_shopping_malls.loc[idx, \"search_result_postal_code\"] = results[\"POSTAL\"]\n",
    "        df_shopping_malls.loc[idx, \"latitude\"] = results[\"LATITUDE\"]\n",
    "        df_shopping_malls.loc[idx, \"longitude\"] = results[\"LONGITUDE\"]\n",
    "    else:\n",
    "        print(row['mall_names'])"
   ]
  },
  {
   "cell_type": "code",
   "execution_count": 123,
   "metadata": {},
   "outputs": [],
   "source": [
    "for idx, row in df_shopping_malls[df_shopping_malls[\"search_result_building\"].isna()].iterrows():\n",
    "    query = retrieve_from_onemap(onemap_token, \"commonapi/search\", payload={\"searchVal\": f\"Singapore {row['postal_code']}\", \"returnGeom\": \"Y\", \"getAddrDetails\": \"Y\"})\n",
    "\n",
    "    if len(query) > 0:\n",
    "        results = query.loc[0, \"results\"]\n",
    "        df_shopping_malls.loc[idx, \"search_result_building\"] = results[\"BUILDING\"]\n",
    "        df_shopping_malls.loc[idx, \"search_result_postal_code\"] = results[\"POSTAL\"]\n",
    "        df_shopping_malls.loc[idx, \"latitude\"] = results[\"LATITUDE\"]\n",
    "        df_shopping_malls.loc[idx, \"longitude\"] = results[\"LONGITUDE\"]\n",
    "    else:\n",
    "        print(row['mall_names'])"
   ]
  },
  {
   "cell_type": "code",
   "execution_count": 127,
   "metadata": {},
   "outputs": [],
   "source": [
    "df_shopping_malls[\"1 stars\"] = df_shopping_malls[\"1 stars\"].astype(int)\n",
    "df_shopping_malls[\"2 stars\"] = df_shopping_malls[\"2 stars\"].astype(int)\n",
    "df_shopping_malls[\"3 stars\"] = df_shopping_malls[\"3 stars\"].astype(int)\n",
    "df_shopping_malls[\"4 stars\"] = df_shopping_malls[\"4 stars\"].astype(int)\n",
    "df_shopping_malls[\"5 stars\"] = df_shopping_malls[\"5 stars\"].astype(int)"
   ]
  },
  {
   "cell_type": "code",
   "execution_count": 130,
   "metadata": {},
   "outputs": [],
   "source": [
    "df_shopping_malls[\"total_reviews\"] = df_shopping_malls[\"1 stars\"] + df_shopping_malls[\"2 stars\"] + df_shopping_malls[\"3 stars\"] + df_shopping_malls[\"4 stars\"] + df_shopping_malls[\"5 stars\"]\n",
    "df_shopping_malls[\"rating\"] = df_shopping_malls.apply(\n",
    "    lambda x: (x[\"1 stars\"] + (x[\"2 stars\"] * 2) + (x[\"3 stars\"] * 3) + (x[\"4 stars\"] * 4) + (x[\"5 stars\"] * 5)) / x[\"total_reviews\"], axis = 1\n",
    ")"
   ]
  },
  {
   "cell_type": "code",
   "execution_count": 132,
   "metadata": {},
   "outputs": [],
   "source": [
    "df_shopping_malls.drop(columns=[\n",
    "    \"cleaned_mall_names\",\n",
    "    \"search_result_building\",\n",
    "    \"search_result_building\",\n",
    "    \"search_result_postal_code\"\n",
    "], inplace=True)"
   ]
  },
  {
   "cell_type": "code",
   "execution_count": 135,
   "metadata": {},
   "outputs": [],
   "source": [
    "df_shopping_malls.to_csv(\"../data/shopping_mall_listing.csv\", index=False)"
   ]
  }
 ],
 "metadata": {
  "kernelspec": {
   "display_name": "Python 3.8.8 ('venv': venv)",
   "language": "python",
   "name": "python3"
  },
  "language_info": {
   "codemirror_mode": {
    "name": "ipython",
    "version": 3
   },
   "file_extension": ".py",
   "mimetype": "text/x-python",
   "name": "python",
   "nbconvert_exporter": "python",
   "pygments_lexer": "ipython3",
   "version": "3.8.8"
  },
  "orig_nbformat": 4,
  "vscode": {
   "interpreter": {
    "hash": "5599f31a5a05a46ab9a72ef8950bbb9bc7fb93a2c11505c3d92ffd1cb0e3bcf7"
   }
  }
 },
 "nbformat": 4,
 "nbformat_minor": 2
}
