{
 "cells": [
  {
   "cell_type": "markdown",
   "metadata": {},
   "source": [
    "# Clean Hotel Listing Dataset"
   ]
  },
  {
   "cell_type": "code",
   "execution_count": 4,
   "metadata": {},
   "outputs": [],
   "source": [
    "from selenium import webdriver      # conda install -c conda-forge selenium\n",
    "from time import sleep\n",
    "from selenium.webdriver.chrome.options import Options\n",
    "from selenium.webdriver.common.by import By\n",
    "from selenium.webdriver.common.keys import Keys\n",
    "\n",
    "\n",
    "import pandas as pd\n",
    "import re\n",
    "import os\n",
    "import json\n",
    "\n",
    "# Geospatial\n",
    "import geopandas as gpd\n",
    "import geojson\n",
    "from shapely.geometry import Polygon, MultiPolygon, shape\n",
    "\n",
    "# Utilities\n",
    "from utility import retrieve_from_onemap, convert_geojson_to_geometry, export_df_to_shapefile, retrieve_onemap_population_data\n",
    "\n",
    "# Load API Token\n",
    "from dotenv import load_dotenv\n",
    "load_dotenv()\n",
    "onemap_token = os.getenv('onemap_token')\n",
    "\n",
    "\n",
    "import warnings\n",
    "warnings.filterwarnings(\"ignore\")"
   ]
  },
  {
   "cell_type": "markdown",
   "metadata": {},
   "source": [
    "## Hotel Listing"
   ]
  },
  {
   "cell_type": "code",
   "execution_count": 16,
   "metadata": {},
   "outputs": [],
   "source": [
    "df_hotels = pd.read_csv(\"../data/hotel_listing.csv\")"
   ]
  },
  {
   "cell_type": "code",
   "execution_count": 17,
   "metadata": {},
   "outputs": [],
   "source": [
    "col = [\n",
    "    \"Accomodation Name\",\n",
    "    \"Postal Code\",\n",
    "    \"Address\",\n",
    "    \"Status\"\n",
    "]\n",
    "\n",
    "df_hotels = df_hotels[col]\n",
    "df_hotels.rename(columns={\n",
    "    \"Accomodation Name\": \"hotel_names\",\n",
    "    \"Postal Code\": \"postal_code\",\n",
    "    \"Address\": \"address\",\n",
    "    \"Status\": \"status\"\n",
    "}, inplace=True)"
   ]
  },
  {
   "cell_type": "code",
   "execution_count": 18,
   "metadata": {},
   "outputs": [],
   "source": [
    "df_hotels = df_hotels.query(\"status == 'Active'\")\n",
    "df_hotels.reset_index(drop=True, inplace=True)"
   ]
  },
  {
   "cell_type": "code",
   "execution_count": 19,
   "metadata": {},
   "outputs": [
    {
     "data": {
      "text/html": [
       "<div>\n",
       "<style scoped>\n",
       "    .dataframe tbody tr th:only-of-type {\n",
       "        vertical-align: middle;\n",
       "    }\n",
       "\n",
       "    .dataframe tbody tr th {\n",
       "        vertical-align: top;\n",
       "    }\n",
       "\n",
       "    .dataframe thead th {\n",
       "        text-align: right;\n",
       "    }\n",
       "</style>\n",
       "<table border=\"1\" class=\"dataframe\">\n",
       "  <thead>\n",
       "    <tr style=\"text-align: right;\">\n",
       "      <th></th>\n",
       "      <th>hotel_names</th>\n",
       "      <th>postal_code</th>\n",
       "      <th>address</th>\n",
       "      <th>status</th>\n",
       "    </tr>\n",
       "  </thead>\n",
       "  <tbody>\n",
       "    <tr>\n",
       "      <th>0</th>\n",
       "      <td>30 BENCOOLEN</td>\n",
       "      <td>189621</td>\n",
       "      <td>30 BENCOOLEN STREET</td>\n",
       "      <td>Active</td>\n",
       "    </tr>\n",
       "    <tr>\n",
       "      <th>1</th>\n",
       "      <td>7 Wonders Hostel</td>\n",
       "      <td>208930</td>\n",
       "      <td>257 Jalan Besar</td>\n",
       "      <td>Active</td>\n",
       "    </tr>\n",
       "    <tr>\n",
       "      <th>2</th>\n",
       "      <td>7 Wonders Hostel @ Boat Quay</td>\n",
       "      <td>58695</td>\n",
       "      <td>65 SOUTH BRIDGE ROAD</td>\n",
       "      <td>Active</td>\n",
       "    </tr>\n",
       "    <tr>\n",
       "      <th>3</th>\n",
       "      <td>7 Wonders Hostel @ Upper Dickson</td>\n",
       "      <td>207472</td>\n",
       "      <td>12A UPPER DICKSON ROAD</td>\n",
       "      <td>Active</td>\n",
       "    </tr>\n",
       "    <tr>\n",
       "      <th>4</th>\n",
       "      <td>ABC HOSTEL</td>\n",
       "      <td>199201</td>\n",
       "      <td>3  Jalan Kubor (1st Storey)</td>\n",
       "      <td>Active</td>\n",
       "    </tr>\n",
       "    <tr>\n",
       "      <th>...</th>\n",
       "      <td>...</td>\n",
       "      <td>...</td>\n",
       "      <td>...</td>\n",
       "      <td>...</td>\n",
       "    </tr>\n",
       "    <tr>\n",
       "      <th>420</th>\n",
       "      <td>Yew Lian Hotel</td>\n",
       "      <td>389504</td>\n",
       "      <td>549A Geylang Road</td>\n",
       "      <td>Active</td>\n",
       "    </tr>\n",
       "    <tr>\n",
       "      <th>421</th>\n",
       "      <td>York Hotel</td>\n",
       "      <td>228516</td>\n",
       "      <td>21 Mount Elizabeth</td>\n",
       "      <td>Active</td>\n",
       "    </tr>\n",
       "    <tr>\n",
       "      <th>422</th>\n",
       "      <td>YOTEL Singapore Orchard Road</td>\n",
       "      <td>238904</td>\n",
       "      <td>366 ORCHARD ROAD</td>\n",
       "      <td>Active</td>\n",
       "    </tr>\n",
       "    <tr>\n",
       "      <th>423</th>\n",
       "      <td>YotelAir Singapore Changi Airport</td>\n",
       "      <td>819666</td>\n",
       "      <td>78 AIRPORT BOULEVARD</td>\n",
       "      <td>Active</td>\n",
       "    </tr>\n",
       "    <tr>\n",
       "      <th>424</th>\n",
       "      <td>Zero Hostel</td>\n",
       "      <td>160146</td>\n",
       "      <td>146 JALAN BUKIT MERAH</td>\n",
       "      <td>Active</td>\n",
       "    </tr>\n",
       "  </tbody>\n",
       "</table>\n",
       "<p>425 rows × 4 columns</p>\n",
       "</div>"
      ],
      "text/plain": [
       "                           hotel_names  postal_code  \\\n",
       "0                         30 BENCOOLEN       189621   \n",
       "1                     7 Wonders Hostel       208930   \n",
       "2         7 Wonders Hostel @ Boat Quay        58695   \n",
       "3     7 Wonders Hostel @ Upper Dickson       207472   \n",
       "4                           ABC HOSTEL       199201   \n",
       "..                                 ...          ...   \n",
       "420                     Yew Lian Hotel       389504   \n",
       "421                        York Hotel        228516   \n",
       "422       YOTEL Singapore Orchard Road       238904   \n",
       "423  YotelAir Singapore Changi Airport       819666   \n",
       "424                        Zero Hostel       160146   \n",
       "\n",
       "                         address  status  \n",
       "0            30 BENCOOLEN STREET  Active  \n",
       "1                257 Jalan Besar  Active  \n",
       "2           65 SOUTH BRIDGE ROAD  Active  \n",
       "3         12A UPPER DICKSON ROAD  Active  \n",
       "4    3  Jalan Kubor (1st Storey)  Active  \n",
       "..                           ...     ...  \n",
       "420          549A Geylang Road    Active  \n",
       "421           21 Mount Elizabeth  Active  \n",
       "422             366 ORCHARD ROAD  Active  \n",
       "423         78 AIRPORT BOULEVARD  Active  \n",
       "424        146 JALAN BUKIT MERAH  Active  \n",
       "\n",
       "[425 rows x 4 columns]"
      ]
     },
     "execution_count": 19,
     "metadata": {},
     "output_type": "execute_result"
    }
   ],
   "source": [
    "df_hotels"
   ]
  },
  {
   "cell_type": "code",
   "execution_count": 20,
   "metadata": {},
   "outputs": [],
   "source": [
    "df_hotels[\"postal_code\"] = df_hotels[\"postal_code\"].astype(str)\n",
    "df_hotels[\"postal_code\"] = df_hotels[\"postal_code\"].apply(\n",
    "    lambda x: f\"{'0' * (6 - len(x))}{x}\" if len(x) == 5 else x\n",
    ")"
   ]
  },
  {
   "cell_type": "code",
   "execution_count": 21,
   "metadata": {},
   "outputs": [
    {
     "data": {
      "text/html": [
       "<div>\n",
       "<style scoped>\n",
       "    .dataframe tbody tr th:only-of-type {\n",
       "        vertical-align: middle;\n",
       "    }\n",
       "\n",
       "    .dataframe tbody tr th {\n",
       "        vertical-align: top;\n",
       "    }\n",
       "\n",
       "    .dataframe thead th {\n",
       "        text-align: right;\n",
       "    }\n",
       "</style>\n",
       "<table border=\"1\" class=\"dataframe\">\n",
       "  <thead>\n",
       "    <tr style=\"text-align: right;\">\n",
       "      <th></th>\n",
       "      <th>hotel_names</th>\n",
       "      <th>postal_code</th>\n",
       "      <th>address</th>\n",
       "      <th>status</th>\n",
       "    </tr>\n",
       "  </thead>\n",
       "  <tbody>\n",
       "    <tr>\n",
       "      <th>0</th>\n",
       "      <td>30 BENCOOLEN</td>\n",
       "      <td>189621</td>\n",
       "      <td>30 BENCOOLEN STREET</td>\n",
       "      <td>Active</td>\n",
       "    </tr>\n",
       "    <tr>\n",
       "      <th>1</th>\n",
       "      <td>7 Wonders Hostel</td>\n",
       "      <td>208930</td>\n",
       "      <td>257 Jalan Besar</td>\n",
       "      <td>Active</td>\n",
       "    </tr>\n",
       "    <tr>\n",
       "      <th>2</th>\n",
       "      <td>7 Wonders Hostel @ Boat Quay</td>\n",
       "      <td>058695</td>\n",
       "      <td>65 SOUTH BRIDGE ROAD</td>\n",
       "      <td>Active</td>\n",
       "    </tr>\n",
       "    <tr>\n",
       "      <th>3</th>\n",
       "      <td>7 Wonders Hostel @ Upper Dickson</td>\n",
       "      <td>207472</td>\n",
       "      <td>12A UPPER DICKSON ROAD</td>\n",
       "      <td>Active</td>\n",
       "    </tr>\n",
       "    <tr>\n",
       "      <th>4</th>\n",
       "      <td>ABC HOSTEL</td>\n",
       "      <td>199201</td>\n",
       "      <td>3  Jalan Kubor (1st Storey)</td>\n",
       "      <td>Active</td>\n",
       "    </tr>\n",
       "    <tr>\n",
       "      <th>...</th>\n",
       "      <td>...</td>\n",
       "      <td>...</td>\n",
       "      <td>...</td>\n",
       "      <td>...</td>\n",
       "    </tr>\n",
       "    <tr>\n",
       "      <th>420</th>\n",
       "      <td>Yew Lian Hotel</td>\n",
       "      <td>389504</td>\n",
       "      <td>549A Geylang Road</td>\n",
       "      <td>Active</td>\n",
       "    </tr>\n",
       "    <tr>\n",
       "      <th>421</th>\n",
       "      <td>York Hotel</td>\n",
       "      <td>228516</td>\n",
       "      <td>21 Mount Elizabeth</td>\n",
       "      <td>Active</td>\n",
       "    </tr>\n",
       "    <tr>\n",
       "      <th>422</th>\n",
       "      <td>YOTEL Singapore Orchard Road</td>\n",
       "      <td>238904</td>\n",
       "      <td>366 ORCHARD ROAD</td>\n",
       "      <td>Active</td>\n",
       "    </tr>\n",
       "    <tr>\n",
       "      <th>423</th>\n",
       "      <td>YotelAir Singapore Changi Airport</td>\n",
       "      <td>819666</td>\n",
       "      <td>78 AIRPORT BOULEVARD</td>\n",
       "      <td>Active</td>\n",
       "    </tr>\n",
       "    <tr>\n",
       "      <th>424</th>\n",
       "      <td>Zero Hostel</td>\n",
       "      <td>160146</td>\n",
       "      <td>146 JALAN BUKIT MERAH</td>\n",
       "      <td>Active</td>\n",
       "    </tr>\n",
       "  </tbody>\n",
       "</table>\n",
       "<p>425 rows × 4 columns</p>\n",
       "</div>"
      ],
      "text/plain": [
       "                           hotel_names postal_code  \\\n",
       "0                         30 BENCOOLEN      189621   \n",
       "1                     7 Wonders Hostel      208930   \n",
       "2         7 Wonders Hostel @ Boat Quay      058695   \n",
       "3     7 Wonders Hostel @ Upper Dickson      207472   \n",
       "4                           ABC HOSTEL      199201   \n",
       "..                                 ...         ...   \n",
       "420                     Yew Lian Hotel      389504   \n",
       "421                        York Hotel       228516   \n",
       "422       YOTEL Singapore Orchard Road      238904   \n",
       "423  YotelAir Singapore Changi Airport      819666   \n",
       "424                        Zero Hostel      160146   \n",
       "\n",
       "                         address  status  \n",
       "0            30 BENCOOLEN STREET  Active  \n",
       "1                257 Jalan Besar  Active  \n",
       "2           65 SOUTH BRIDGE ROAD  Active  \n",
       "3         12A UPPER DICKSON ROAD  Active  \n",
       "4    3  Jalan Kubor (1st Storey)  Active  \n",
       "..                           ...     ...  \n",
       "420          549A Geylang Road    Active  \n",
       "421           21 Mount Elizabeth  Active  \n",
       "422             366 ORCHARD ROAD  Active  \n",
       "423         78 AIRPORT BOULEVARD  Active  \n",
       "424        146 JALAN BUKIT MERAH  Active  \n",
       "\n",
       "[425 rows x 4 columns]"
      ]
     },
     "execution_count": 21,
     "metadata": {},
     "output_type": "execute_result"
    }
   ],
   "source": [
    "df_hotels"
   ]
  },
  {
   "cell_type": "code",
   "execution_count": 22,
   "metadata": {},
   "outputs": [],
   "source": [
    "for idx, row in df_hotels.iterrows():\n",
    "    query = retrieve_from_onemap(onemap_token, \"commonapi/search\", payload={\"searchVal\": f\"Singapore {row['postal_code']}\", \"returnGeom\": \"Y\", \"getAddrDetails\": \"Y\"})\n",
    "\n",
    "    if len(query) > 0:\n",
    "        results = query.loc[0, \"results\"]\n",
    "        df_hotels.loc[idx, \"search_result_building\"] = results[\"BUILDING\"]\n",
    "        df_hotels.loc[idx, \"search_result_postal_code\"] = results[\"POSTAL\"]\n",
    "        df_hotels.loc[idx, \"latitude\"] = results[\"LATITUDE\"]\n",
    "        df_hotels.loc[idx, \"longitude\"] = results[\"LONGITUDE\"]"
   ]
  },
  {
   "cell_type": "code",
   "execution_count": 24,
   "metadata": {},
   "outputs": [],
   "source": [
    "df_hotels = df_hotels[[\"hotel_names\", \"postal_code\", \"address\", \"latitude\", \"longitude\"]].copy()"
   ]
  },
  {
   "cell_type": "code",
   "execution_count": null,
   "metadata": {},
   "outputs": [],
   "source": [
    "df_hotels.to_csv(\"../data/hotel_listing.csv\", index=False)"
   ]
  },
  {
   "cell_type": "markdown",
   "metadata": {},
   "source": [
    "## Clean BCA Energy Performance Report"
   ]
  },
  {
   "cell_type": "code",
   "execution_count": 5,
   "metadata": {},
   "outputs": [],
   "source": [
    "df_2019 = pd.read_csv(\"../data/listing-of-building-energy-performance-data-2019.csv\")\n",
    "df_2020 = pd.read_csv(\"../data/listing-of-building-energy-performance-data-2020.csv\")"
   ]
  },
  {
   "cell_type": "code",
   "execution_count": 8,
   "metadata": {},
   "outputs": [],
   "source": [
    "df_2019[\"postal_code\"] = df_2019[\"buildingaddress\"].apply(lambda x: x[-6:] if not pd.isna(x) else x)\n",
    "df_2020[\"postal_code\"] = df_2020[\"buildingaddress\"].apply(lambda x: x[-6:] if not pd.isna(x) else x)"
   ]
  },
  {
   "cell_type": "code",
   "execution_count": 10,
   "metadata": {},
   "outputs": [],
   "source": [
    "for idx, row in df_2019.iterrows():\n",
    "    query = retrieve_from_onemap(onemap_token, \"commonapi/search\", payload={\"searchVal\": f\"Singapore {row['postal_code']}\", \"returnGeom\": \"Y\", \"getAddrDetails\": \"Y\"})\n",
    "\n",
    "    if len(query) > 0:\n",
    "        results = query.loc[0, \"results\"]\n",
    "        df_2019.loc[idx, \"search_result_building\"] = results[\"BUILDING\"]\n",
    "        df_2019.loc[idx, \"search_result_postal_code\"] = results[\"POSTAL\"]\n",
    "        df_2019.loc[idx, \"latitude\"] = results[\"LATITUDE\"]\n",
    "        df_2019.loc[idx, \"longitude\"] = results[\"LONGITUDE\"]"
   ]
  },
  {
   "cell_type": "code",
   "execution_count": 12,
   "metadata": {},
   "outputs": [],
   "source": [
    "for idx, row in df_2020.iterrows():\n",
    "    query = retrieve_from_onemap(onemap_token, \"commonapi/search\", payload={\"searchVal\": f\"Singapore {row['postal_code']}\", \"returnGeom\": \"Y\", \"getAddrDetails\": \"Y\"})\n",
    "\n",
    "    if len(query) > 0:\n",
    "        results = query.loc[0, \"results\"]\n",
    "        df_2020.loc[idx, \"search_result_building\"] = results[\"BUILDING\"]\n",
    "        df_2020.loc[idx, \"search_result_postal_code\"] = results[\"POSTAL\"]\n",
    "        df_2020.loc[idx, \"latitude\"] = results[\"LATITUDE\"]\n",
    "        df_2020.loc[idx, \"longitude\"] = results[\"LONGITUDE\"]"
   ]
  },
  {
   "cell_type": "code",
   "execution_count": 14,
   "metadata": {},
   "outputs": [],
   "source": [
    "df_2019.drop(columns=[\"search_result_building\", \"search_result_postal_code\"], inplace=True)\n",
    "df_2020.drop(columns=[\"search_result_building\", \"search_result_postal_code\"], inplace=True)"
   ]
  },
  {
   "cell_type": "code",
   "execution_count": 16,
   "metadata": {},
   "outputs": [],
   "source": [
    "df_2019.dropna(subset=[\"buildingaddress\"], inplace=True)\n",
    "df_2020.dropna(subset=[\"buildingaddress\"], inplace=True)"
   ]
  },
  {
   "cell_type": "code",
   "execution_count": 18,
   "metadata": {},
   "outputs": [],
   "source": [
    "df_2019.to_csv(\"../data/listing-of-building-energy-performance-data-2019.csv\", index=False)\n",
    "df_2020.to_csv(\"../data/listing-of-building-energy-performance-data-2020.csv\", index=False)"
   ]
  }
 ],
 "metadata": {
  "kernelspec": {
   "display_name": "Python 3.8.8 ('venv': venv)",
   "language": "python",
   "name": "python3"
  },
  "language_info": {
   "codemirror_mode": {
    "name": "ipython",
    "version": 3
   },
   "file_extension": ".py",
   "mimetype": "text/x-python",
   "name": "python",
   "nbconvert_exporter": "python",
   "pygments_lexer": "ipython3",
   "version": "3.8.8"
  },
  "orig_nbformat": 4,
  "vscode": {
   "interpreter": {
    "hash": "5599f31a5a05a46ab9a72ef8950bbb9bc7fb93a2c11505c3d92ffd1cb0e3bcf7"
   }
  }
 },
 "nbformat": 4,
 "nbformat_minor": 2
}
