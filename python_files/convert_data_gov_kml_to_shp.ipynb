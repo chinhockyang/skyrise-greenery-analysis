{
 "cells": [
  {
   "cell_type": "markdown",
   "metadata": {},
   "source": [
    "# Convert Data.gov.sg's KML files to Shapefile"
   ]
  },
  {
   "cell_type": "markdown",
   "metadata": {},
   "source": [
    "### Loading Libraries"
   ]
  },
  {
   "cell_type": "code",
   "execution_count": 2,
   "metadata": {},
   "outputs": [],
   "source": [
    "import geopandas as gpd\n",
    "from fiona.drvsupport import supported_drivers\n",
    "import re\n",
    "import pandas as pd\n",
    "from utility import export_df_to_shapefile, load_kml_file_as_df, process_raw_df_from_kml"
   ]
  },
  {
   "cell_type": "markdown",
   "metadata": {},
   "source": [
    "### Skyrise Greenery"
   ]
  },
  {
   "cell_type": "code",
   "execution_count": 5,
   "metadata": {},
   "outputs": [
    {
     "data": {
      "text/html": [
       "<div>\n",
       "<style scoped>\n",
       "    .dataframe tbody tr th:only-of-type {\n",
       "        vertical-align: middle;\n",
       "    }\n",
       "\n",
       "    .dataframe tbody tr th {\n",
       "        vertical-align: top;\n",
       "    }\n",
       "\n",
       "    .dataframe thead th {\n",
       "        text-align: right;\n",
       "    }\n",
       "</style>\n",
       "<table border=\"1\" class=\"dataframe\">\n",
       "  <thead>\n",
       "    <tr style=\"text-align: right;\">\n",
       "      <th></th>\n",
       "      <th>Name</th>\n",
       "      <th>Description</th>\n",
       "      <th>geometry</th>\n",
       "    </tr>\n",
       "  </thead>\n",
       "  <tbody>\n",
       "    <tr>\n",
       "      <th>0</th>\n",
       "      <td>kml_1</td>\n",
       "      <td>&lt;center&gt;&lt;table&gt;&lt;tr&gt;&lt;th colspan='2' align='cent...</td>\n",
       "      <td>POINT Z (103.86007 1.29945 0.00000)</td>\n",
       "    </tr>\n",
       "    <tr>\n",
       "      <th>1</th>\n",
       "      <td>kml_2</td>\n",
       "      <td>&lt;center&gt;&lt;table&gt;&lt;tr&gt;&lt;th colspan='2' align='cent...</td>\n",
       "      <td>POINT Z (103.85561 1.31063 0.00000)</td>\n",
       "    </tr>\n",
       "    <tr>\n",
       "      <th>2</th>\n",
       "      <td>kml_3</td>\n",
       "      <td>&lt;center&gt;&lt;table&gt;&lt;tr&gt;&lt;th colspan='2' align='cent...</td>\n",
       "      <td>POINT Z (103.85649 1.31139 0.00000)</td>\n",
       "    </tr>\n",
       "  </tbody>\n",
       "</table>\n",
       "</div>"
      ],
      "text/plain": [
       "    Name                                        Description  \\\n",
       "0  kml_1  <center><table><tr><th colspan='2' align='cent...   \n",
       "1  kml_2  <center><table><tr><th colspan='2' align='cent...   \n",
       "2  kml_3  <center><table><tr><th colspan='2' align='cent...   \n",
       "\n",
       "                              geometry  \n",
       "0  POINT Z (103.86007 1.29945 0.00000)  \n",
       "1  POINT Z (103.85561 1.31063 0.00000)  \n",
       "2  POINT Z (103.85649 1.31139 0.00000)  "
      ]
     },
     "execution_count": 5,
     "metadata": {},
     "output_type": "execute_result"
    }
   ],
   "source": [
    "df_skyrise_greenery = load_kml_file_as_df('../data/nparks-skyrise-greenery-kml.kml')\n",
    "df_skyrise_greenery.head(3)"
   ]
  },
  {
   "cell_type": "code",
   "execution_count": 6,
   "metadata": {},
   "outputs": [
    {
     "data": {
      "text/plain": [
       "'<center><table><tr><th colspan=\\'2\\' align=\\'center\\'><em>Attributes</em></th></tr><tr bgcolor=\"#E3E3F3\"> <th>Y</th> <td>31312.5274</td> </tr><tr bgcolor=\"\"> <th>X</th> <td>30977.219626</td> </tr><tr bgcolor=\"#E3E3F3\"> <th>POSTAL_CODE</th> <td>199591</td> </tr><tr bgcolor=\"\"> <th>GARDENID</th> <td>97</td> </tr><tr bgcolor=\"#E3E3F3\"> <th>ADDRESS</th> <td>7500A Beach Road Singapore 199591</td> </tr><tr bgcolor=\"\"> <th>PROJECT_NAME</th> <td>Parkroyal on Beach Road</td> </tr><tr bgcolor=\"#E3E3F3\"> <th>INC_CRC</th> <td>30DE7C10E49125D2</td> </tr><tr bgcolor=\"\"> <th>FMEL_UPD_D</th> <td>20160317140030</td> </tr></table></center>'"
      ]
     },
     "execution_count": 6,
     "metadata": {},
     "output_type": "execute_result"
    }
   ],
   "source": [
    "df_skyrise_greenery.loc[0, \"Description\"]"
   ]
  },
  {
   "cell_type": "code",
   "execution_count": 11,
   "metadata": {},
   "outputs": [
    {
     "data": {
      "text/html": [
       "<div>\n",
       "<style scoped>\n",
       "    .dataframe tbody tr th:only-of-type {\n",
       "        vertical-align: middle;\n",
       "    }\n",
       "\n",
       "    .dataframe tbody tr th {\n",
       "        vertical-align: top;\n",
       "    }\n",
       "\n",
       "    .dataframe thead th {\n",
       "        text-align: right;\n",
       "    }\n",
       "</style>\n",
       "<table border=\"1\" class=\"dataframe\">\n",
       "  <thead>\n",
       "    <tr style=\"text-align: right;\">\n",
       "      <th></th>\n",
       "      <th>Name</th>\n",
       "      <th>Description</th>\n",
       "      <th>geometry</th>\n",
       "      <th>POSTAL_CODE</th>\n",
       "      <th>X</th>\n",
       "      <th>Y</th>\n",
       "      <th>PROJECT_NAME</th>\n",
       "      <th>INC_CRC</th>\n",
       "      <th>FMEL_UPD_D</th>\n",
       "      <th>GARDENID</th>\n",
       "      <th>ADDRESS</th>\n",
       "    </tr>\n",
       "  </thead>\n",
       "  <tbody>\n",
       "    <tr>\n",
       "      <th>251</th>\n",
       "      <td>kml_252</td>\n",
       "      <td>&lt;center&gt;&lt;table&gt;&lt;tr&gt;&lt;th colspan='2' align='cent...</td>\n",
       "      <td>POINT Z (103.81098 1.29400 0.00000)</td>\n",
       "      <td>141061</td>\n",
       "      <td>25513.822889</td>\n",
       "      <td>30709.2277</td>\n",
       "      <td>MSCP</td>\n",
       "      <td>6601384BE0398DBB</td>\n",
       "      <td>20160317140030</td>\n",
       "      <td>198</td>\n",
       "      <td>61 Dawson Road Singapore 141061</td>\n",
       "    </tr>\n",
       "    <tr>\n",
       "      <th>161</th>\n",
       "      <td>kml_162</td>\n",
       "      <td>&lt;center&gt;&lt;table&gt;&lt;tr&gt;&lt;th colspan='2' align='cent...</td>\n",
       "      <td>POINT Z (103.75903 1.38436 0.00000)</td>\n",
       "      <td>672632</td>\n",
       "      <td>19732.936999</td>\n",
       "      <td>40700.5939</td>\n",
       "      <td>Bukit Panjang N6C9(S)</td>\n",
       "      <td>F075F6235EA65461</td>\n",
       "      <td>20160317140030</td>\n",
       "      <td>382</td>\n",
       "      <td>632 Senja Road Singapore 672632 (Senja Green)</td>\n",
       "    </tr>\n",
       "    <tr>\n",
       "      <th>392</th>\n",
       "      <td>kml_393</td>\n",
       "      <td>&lt;center&gt;&lt;table&gt;&lt;tr&gt;&lt;th colspan='2' align='cent...</td>\n",
       "      <td>POINT Z (103.93300 1.35534 0.00000)</td>\n",
       "      <td>523869</td>\n",
       "      <td>39093.53553</td>\n",
       "      <td>37491.9657</td>\n",
       "      <td>Tampines N8C26(S) - Tampines Greenwood</td>\n",
       "      <td>8408589FF9F72D8D</td>\n",
       "      <td>20160317140030</td>\n",
       "      <td>487</td>\n",
       "      <td>869C Tampines Avenue 8 Singapore 523869</td>\n",
       "    </tr>\n",
       "    <tr>\n",
       "      <th>193</th>\n",
       "      <td>kml_194</td>\n",
       "      <td>&lt;center&gt;&lt;table&gt;&lt;tr&gt;&lt;th colspan='2' align='cent...</td>\n",
       "      <td>POINT Z (103.77521 1.29131 0.00000)</td>\n",
       "      <td>119618</td>\n",
       "      <td>21533.094348</td>\n",
       "      <td>30412.238</td>\n",
       "      <td>NUS Sheares Hall</td>\n",
       "      <td>29E2118A969F3A37</td>\n",
       "      <td>20160317140030</td>\n",
       "      <td>425</td>\n",
       "      <td>20 Heng Mui Keng Terrace S119618</td>\n",
       "    </tr>\n",
       "    <tr>\n",
       "      <th>284</th>\n",
       "      <td>kml_285</td>\n",
       "      <td>&lt;center&gt;&lt;table&gt;&lt;tr&gt;&lt;th colspan='2' align='cent...</td>\n",
       "      <td>POINT Z (103.85908 1.34013 0.00000)</td>\n",
       "      <td>319255</td>\n",
       "      <td>30867.092521</td>\n",
       "      <td>35810.1194</td>\n",
       "      <td>Subaru Hub Toa Payoh Lor 8</td>\n",
       "      <td>620960A36B21BEDA</td>\n",
       "      <td>20160317140030</td>\n",
       "      <td>246</td>\n",
       "      <td>19 Toa Payoh Lorong 8 Singapore 319255</td>\n",
       "    </tr>\n",
       "  </tbody>\n",
       "</table>\n",
       "</div>"
      ],
      "text/plain": [
       "        Name                                        Description  \\\n",
       "251  kml_252  <center><table><tr><th colspan='2' align='cent...   \n",
       "161  kml_162  <center><table><tr><th colspan='2' align='cent...   \n",
       "392  kml_393  <center><table><tr><th colspan='2' align='cent...   \n",
       "193  kml_194  <center><table><tr><th colspan='2' align='cent...   \n",
       "284  kml_285  <center><table><tr><th colspan='2' align='cent...   \n",
       "\n",
       "                                geometry POSTAL_CODE             X  \\\n",
       "251  POINT Z (103.81098 1.29400 0.00000)      141061  25513.822889   \n",
       "161  POINT Z (103.75903 1.38436 0.00000)      672632  19732.936999   \n",
       "392  POINT Z (103.93300 1.35534 0.00000)      523869   39093.53553   \n",
       "193  POINT Z (103.77521 1.29131 0.00000)      119618  21533.094348   \n",
       "284  POINT Z (103.85908 1.34013 0.00000)      319255  30867.092521   \n",
       "\n",
       "              Y                            PROJECT_NAME           INC_CRC  \\\n",
       "251  30709.2277                                    MSCP  6601384BE0398DBB   \n",
       "161  40700.5939                   Bukit Panjang N6C9(S)  F075F6235EA65461   \n",
       "392  37491.9657  Tampines N8C26(S) - Tampines Greenwood  8408589FF9F72D8D   \n",
       "193   30412.238                        NUS Sheares Hall  29E2118A969F3A37   \n",
       "284  35810.1194              Subaru Hub Toa Payoh Lor 8  620960A36B21BEDA   \n",
       "\n",
       "         FMEL_UPD_D GARDENID                                        ADDRESS  \n",
       "251  20160317140030      198                61 Dawson Road Singapore 141061  \n",
       "161  20160317140030      382  632 Senja Road Singapore 672632 (Senja Green)  \n",
       "392  20160317140030      487        869C Tampines Avenue 8 Singapore 523869  \n",
       "193  20160317140030      425               20 Heng Mui Keng Terrace S119618  \n",
       "284  20160317140030      246         19 Toa Payoh Lorong 8 Singapore 319255  "
      ]
     },
     "execution_count": 11,
     "metadata": {},
     "output_type": "execute_result"
    }
   ],
   "source": [
    "transformed_df_skyrise_greenery = process_raw_df_from_kml(df_skyrise_greenery, \"POSTAL_CODE\", \"X\", \"Y\", \"PROJECT_NAME\", \"INC_CRC\", \"FMEL_UPD_D\", \"GARDENID\", \"ADDRESS\")\n",
    "transformed_df_skyrise_greenery.sample(5)"
   ]
  },
  {
   "cell_type": "markdown",
   "metadata": {},
   "source": [
    "### Aedes Population"
   ]
  },
  {
   "cell_type": "code",
   "execution_count": 12,
   "metadata": {},
   "outputs": [
    {
     "data": {
      "text/html": [
       "<div>\n",
       "<style scoped>\n",
       "    .dataframe tbody tr th:only-of-type {\n",
       "        vertical-align: middle;\n",
       "    }\n",
       "\n",
       "    .dataframe tbody tr th {\n",
       "        vertical-align: top;\n",
       "    }\n",
       "\n",
       "    .dataframe thead th {\n",
       "        text-align: right;\n",
       "    }\n",
       "</style>\n",
       "<table border=\"1\" class=\"dataframe\">\n",
       "  <thead>\n",
       "    <tr style=\"text-align: right;\">\n",
       "      <th></th>\n",
       "      <th>Name</th>\n",
       "      <th>Description</th>\n",
       "      <th>geometry</th>\n",
       "    </tr>\n",
       "  </thead>\n",
       "  <tbody>\n",
       "    <tr>\n",
       "      <th>0</th>\n",
       "      <td>kml_1</td>\n",
       "      <td>&lt;center&gt;&lt;table&gt;&lt;tr&gt;&lt;th colspan='2' align='cent...</td>\n",
       "      <td>POLYGON Z ((103.83178 1.32596 0.00000, 103.832...</td>\n",
       "    </tr>\n",
       "    <tr>\n",
       "      <th>1</th>\n",
       "      <td>kml_2</td>\n",
       "      <td>&lt;center&gt;&lt;table&gt;&lt;tr&gt;&lt;th colspan='2' align='cent...</td>\n",
       "      <td>POLYGON Z ((103.83356 1.30894 0.00000, 103.833...</td>\n",
       "    </tr>\n",
       "    <tr>\n",
       "      <th>2</th>\n",
       "      <td>kml_3</td>\n",
       "      <td>&lt;center&gt;&lt;table&gt;&lt;tr&gt;&lt;th colspan='2' align='cent...</td>\n",
       "      <td>POLYGON Z ((103.83438 1.36239 0.00000, 103.834...</td>\n",
       "    </tr>\n",
       "  </tbody>\n",
       "</table>\n",
       "</div>"
      ],
      "text/plain": [
       "    Name                                        Description  \\\n",
       "0  kml_1  <center><table><tr><th colspan='2' align='cent...   \n",
       "1  kml_2  <center><table><tr><th colspan='2' align='cent...   \n",
       "2  kml_3  <center><table><tr><th colspan='2' align='cent...   \n",
       "\n",
       "                                            geometry  \n",
       "0  POLYGON Z ((103.83178 1.32596 0.00000, 103.832...  \n",
       "1  POLYGON Z ((103.83356 1.30894 0.00000, 103.833...  \n",
       "2  POLYGON Z ((103.83438 1.36239 0.00000, 103.834...  "
      ]
     },
     "execution_count": 12,
     "metadata": {},
     "output_type": "execute_result"
    }
   ],
   "source": [
    "df_aedes_pop = load_kml_file_as_df('../data/areas-with-high-aedes-population-kml.kml')\n",
    "df_aedes_pop.head(3)"
   ]
  },
  {
   "cell_type": "code",
   "execution_count": 13,
   "metadata": {},
   "outputs": [
    {
     "data": {
      "text/plain": [
       "'<center><table><tr><th colspan=\\'2\\' align=\\'center\\'><em>Attributes</em></th></tr><tr bgcolor=\"#E3E3F3\"> <th>DESCRIPTION</th> <td>CO52- Asimont Ln / Barker Rd / Dunearn Rd / Goldhill Ave / Goldhill Dr / Goldhill Pl / Goldhill Rise / Goldhill View / Malcolm Pk / Malcolm Rd / Mtrosie Rd / Swiss Cottage Estate / Whitley Rd</td> </tr><tr bgcolor=\"\"> <th>NAME</th> <td>High Aedes Mosquitoes Population Area. Let\\'s fight Dengue together. Do the Mozzie Wipe-out today. </td> </tr><tr bgcolor=\"#E3E3F3\"> <th>HYPERLINK</th> <td>https://www.nea.gov.sg/dengue-zika/Aedes</td> </tr><tr bgcolor=\"\"> <th>INC_CRC</th> <td>5DB3C5276DEB0700</td> </tr><tr bgcolor=\"#E3E3F3\"> <th>FMEL_UPD_D</th> <td>20210914224949</td> </tr></table></center>'"
      ]
     },
     "execution_count": 13,
     "metadata": {},
     "output_type": "execute_result"
    }
   ],
   "source": [
    "df_aedes_pop.loc[0, \"Description\"]"
   ]
  },
  {
   "cell_type": "code",
   "execution_count": 14,
   "metadata": {},
   "outputs": [],
   "source": [
    "df_aedes_pop = process_raw_df_from_kml(df_aedes_pop, \"DESCRIPTION\", \"NAME\", \"HYPERLINK\", \"INC_CRC\", \"FMEL_UPD_D\")"
   ]
  },
  {
   "cell_type": "code",
   "execution_count": 15,
   "metadata": {},
   "outputs": [
    {
     "data": {
      "text/html": [
       "<div>\n",
       "<style scoped>\n",
       "    .dataframe tbody tr th:only-of-type {\n",
       "        vertical-align: middle;\n",
       "    }\n",
       "\n",
       "    .dataframe tbody tr th {\n",
       "        vertical-align: top;\n",
       "    }\n",
       "\n",
       "    .dataframe thead th {\n",
       "        text-align: right;\n",
       "    }\n",
       "</style>\n",
       "<table border=\"1\" class=\"dataframe\">\n",
       "  <thead>\n",
       "    <tr style=\"text-align: right;\">\n",
       "      <th></th>\n",
       "      <th>Name</th>\n",
       "      <th>Description</th>\n",
       "      <th>geometry</th>\n",
       "      <th>DESCRIPTION</th>\n",
       "      <th>NAME</th>\n",
       "      <th>HYPERLINK</th>\n",
       "      <th>INC_CRC</th>\n",
       "      <th>FMEL_UPD_D</th>\n",
       "    </tr>\n",
       "  </thead>\n",
       "  <tbody>\n",
       "    <tr>\n",
       "      <th>266</th>\n",
       "      <td>kml_267</td>\n",
       "      <td>&lt;center&gt;&lt;table&gt;&lt;tr&gt;&lt;th colspan='2' align='cent...</td>\n",
       "      <td>POLYGON Z ((103.69094 1.34183 0.00000, 103.690...</td>\n",
       "      <td>FL693- Jurong West St 91</td>\n",
       "      <td>High Aedes Mosquitoes Population Area. Let's f...</td>\n",
       "      <td>https</td>\n",
       "      <td>294BA9CCAA73B494</td>\n",
       "      <td>20210722095516</td>\n",
       "    </tr>\n",
       "    <tr>\n",
       "      <th>31</th>\n",
       "      <td>kml_32</td>\n",
       "      <td>&lt;center&gt;&lt;table&gt;&lt;tr&gt;&lt;th colspan='2' align='cent...</td>\n",
       "      <td>POLYGON Z ((103.83721 1.37992 0.00000, 103.837...</td>\n",
       "      <td>FL416- Ang Mo Kio Ave 4 / Ang Mo Kio Ave 5</td>\n",
       "      <td>High Aedes Mosquitoes Population Area. Let's f...</td>\n",
       "      <td>https</td>\n",
       "      <td>69B540DEEDB8DA5D</td>\n",
       "      <td>20210914224949</td>\n",
       "    </tr>\n",
       "    <tr>\n",
       "      <th>52</th>\n",
       "      <td>kml_53</td>\n",
       "      <td>&lt;center&gt;&lt;table&gt;&lt;tr&gt;&lt;th colspan='2' align='cent...</td>\n",
       "      <td>POLYGON Z ((103.88579 1.31121 0.00000, 103.885...</td>\n",
       "      <td>FL202- Cassia Cres / Guillemard Rd / Pine Ln</td>\n",
       "      <td>High Aedes Mosquitoes Population Area. Let's f...</td>\n",
       "      <td>https</td>\n",
       "      <td>15B4736F0EFA315F</td>\n",
       "      <td>20210914224949</td>\n",
       "    </tr>\n",
       "    <tr>\n",
       "      <th>1</th>\n",
       "      <td>kml_2</td>\n",
       "      <td>&lt;center&gt;&lt;table&gt;&lt;tr&gt;&lt;th colspan='2' align='cent...</td>\n",
       "      <td>POLYGON Z ((103.83356 1.30894 0.00000, 103.833...</td>\n",
       "      <td>CO53- Balmoral Cres / Balmoral Rd / Bt Timah R...</td>\n",
       "      <td>High Aedes Mosquitoes Population Area. Let's f...</td>\n",
       "      <td>https</td>\n",
       "      <td>5D28B12A008DDCD2</td>\n",
       "      <td>20210914224949</td>\n",
       "    </tr>\n",
       "    <tr>\n",
       "      <th>9</th>\n",
       "      <td>kml_10</td>\n",
       "      <td>&lt;center&gt;&lt;table&gt;&lt;tr&gt;&lt;th colspan='2' align='cent...</td>\n",
       "      <td>POLYGON Z ((103.79304 1.44484 0.00000, 103.793...</td>\n",
       "      <td>FL586- Woodlands Ave 9 / Woodlands St 82</td>\n",
       "      <td>High Aedes Mosquitoes Population Area. Let's f...</td>\n",
       "      <td>https</td>\n",
       "      <td>874D48EC2720B10C</td>\n",
       "      <td>20210914224949</td>\n",
       "    </tr>\n",
       "  </tbody>\n",
       "</table>\n",
       "</div>"
      ],
      "text/plain": [
       "        Name                                        Description  \\\n",
       "266  kml_267  <center><table><tr><th colspan='2' align='cent...   \n",
       "31    kml_32  <center><table><tr><th colspan='2' align='cent...   \n",
       "52    kml_53  <center><table><tr><th colspan='2' align='cent...   \n",
       "1      kml_2  <center><table><tr><th colspan='2' align='cent...   \n",
       "9     kml_10  <center><table><tr><th colspan='2' align='cent...   \n",
       "\n",
       "                                              geometry  \\\n",
       "266  POLYGON Z ((103.69094 1.34183 0.00000, 103.690...   \n",
       "31   POLYGON Z ((103.83721 1.37992 0.00000, 103.837...   \n",
       "52   POLYGON Z ((103.88579 1.31121 0.00000, 103.885...   \n",
       "1    POLYGON Z ((103.83356 1.30894 0.00000, 103.833...   \n",
       "9    POLYGON Z ((103.79304 1.44484 0.00000, 103.793...   \n",
       "\n",
       "                                           DESCRIPTION  \\\n",
       "266                           FL693- Jurong West St 91   \n",
       "31          FL416- Ang Mo Kio Ave 4 / Ang Mo Kio Ave 5   \n",
       "52        FL202- Cassia Cres / Guillemard Rd / Pine Ln   \n",
       "1    CO53- Balmoral Cres / Balmoral Rd / Bt Timah R...   \n",
       "9             FL586- Woodlands Ave 9 / Woodlands St 82   \n",
       "\n",
       "                                                  NAME HYPERLINK  \\\n",
       "266  High Aedes Mosquitoes Population Area. Let's f...     https   \n",
       "31   High Aedes Mosquitoes Population Area. Let's f...     https   \n",
       "52   High Aedes Mosquitoes Population Area. Let's f...     https   \n",
       "1    High Aedes Mosquitoes Population Area. Let's f...     https   \n",
       "9    High Aedes Mosquitoes Population Area. Let's f...     https   \n",
       "\n",
       "              INC_CRC      FMEL_UPD_D  \n",
       "266  294BA9CCAA73B494  20210722095516  \n",
       "31   69B540DEEDB8DA5D  20210914224949  \n",
       "52   15B4736F0EFA315F  20210914224949  \n",
       "1    5D28B12A008DDCD2  20210914224949  \n",
       "9    874D48EC2720B10C  20210914224949  "
      ]
     },
     "execution_count": 15,
     "metadata": {},
     "output_type": "execute_result"
    }
   ],
   "source": [
    "df_aedes_pop.sample(5)"
   ]
  }
 ],
 "metadata": {
  "kernelspec": {
   "display_name": "Python 3.8.8 ('venv': venv)",
   "language": "python",
   "name": "python3"
  },
  "language_info": {
   "codemirror_mode": {
    "name": "ipython",
    "version": 3
   },
   "file_extension": ".py",
   "mimetype": "text/x-python",
   "name": "python",
   "nbconvert_exporter": "python",
   "pygments_lexer": "ipython3",
   "version": "3.8.8"
  },
  "orig_nbformat": 4,
  "vscode": {
   "interpreter": {
    "hash": "5599f31a5a05a46ab9a72ef8950bbb9bc7fb93a2c11505c3d92ffd1cb0e3bcf7"
   }
  }
 },
 "nbformat": 4,
 "nbformat_minor": 2
}
