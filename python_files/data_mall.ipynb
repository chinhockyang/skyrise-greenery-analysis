{
 "cells": [
  {
   "cell_type": "markdown",
   "metadata": {},
   "source": [
    "# Retrieve Data From Datamall"
   ]
  },
  {
   "cell_type": "markdown",
   "metadata": {},
   "source": [
    "### Loading Libraries and API Configurations"
   ]
  },
  {
   "cell_type": "code",
   "execution_count": 3,
   "metadata": {},
   "outputs": [],
   "source": [
    "# General Data  Tools\n",
    "import pandas as pd\n",
    "import numpy as np\n",
    "import os\n",
    "\n",
    "# Utilities\n",
    "from utility import retrieve_from_datamall\n",
    "\n",
    "# Load API Token\n",
    "from dotenv import load_dotenv\n",
    "load_dotenv()\n",
    "datamall_token = os.getenv('datamall_token')\n"
   ]
  },
  {
   "cell_type": "markdown",
   "metadata": {},
   "source": [
    "### Bus Stop Data"
   ]
  },
  {
   "cell_type": "code",
   "execution_count": 4,
   "metadata": {},
   "outputs": [],
   "source": [
    "df_bus_stops = retrieve_from_datamall(datamall_token, 'BusStops')"
   ]
  },
  {
   "cell_type": "code",
   "execution_count": 5,
   "metadata": {},
   "outputs": [
    {
     "data": {
      "text/html": [
       "<div>\n",
       "<style scoped>\n",
       "    .dataframe tbody tr th:only-of-type {\n",
       "        vertical-align: middle;\n",
       "    }\n",
       "\n",
       "    .dataframe tbody tr th {\n",
       "        vertical-align: top;\n",
       "    }\n",
       "\n",
       "    .dataframe thead th {\n",
       "        text-align: right;\n",
       "    }\n",
       "</style>\n",
       "<table border=\"1\" class=\"dataframe\">\n",
       "  <thead>\n",
       "    <tr style=\"text-align: right;\">\n",
       "      <th></th>\n",
       "      <th>BusStopCode</th>\n",
       "      <th>RoadName</th>\n",
       "      <th>Description</th>\n",
       "      <th>Latitude</th>\n",
       "      <th>Longitude</th>\n",
       "    </tr>\n",
       "  </thead>\n",
       "  <tbody>\n",
       "    <tr>\n",
       "      <th>0</th>\n",
       "      <td>01012</td>\n",
       "      <td>Victoria St</td>\n",
       "      <td>Hotel Grand Pacific</td>\n",
       "      <td>1.296848</td>\n",
       "      <td>103.852536</td>\n",
       "    </tr>\n",
       "    <tr>\n",
       "      <th>1</th>\n",
       "      <td>01013</td>\n",
       "      <td>Victoria St</td>\n",
       "      <td>St. Joseph's Ch</td>\n",
       "      <td>1.297710</td>\n",
       "      <td>103.853225</td>\n",
       "    </tr>\n",
       "    <tr>\n",
       "      <th>2</th>\n",
       "      <td>01019</td>\n",
       "      <td>Victoria St</td>\n",
       "      <td>Bras Basah Cplx</td>\n",
       "      <td>1.296990</td>\n",
       "      <td>103.853022</td>\n",
       "    </tr>\n",
       "    <tr>\n",
       "      <th>3</th>\n",
       "      <td>01029</td>\n",
       "      <td>Nth Bridge Rd</td>\n",
       "      <td>Opp Natl Lib</td>\n",
       "      <td>1.296673</td>\n",
       "      <td>103.854414</td>\n",
       "    </tr>\n",
       "    <tr>\n",
       "      <th>4</th>\n",
       "      <td>01039</td>\n",
       "      <td>Nth Bridge Rd</td>\n",
       "      <td>Bugis Cube</td>\n",
       "      <td>1.298208</td>\n",
       "      <td>103.855491</td>\n",
       "    </tr>\n",
       "    <tr>\n",
       "      <th>...</th>\n",
       "      <td>...</td>\n",
       "      <td>...</td>\n",
       "      <td>...</td>\n",
       "      <td>...</td>\n",
       "      <td>...</td>\n",
       "    </tr>\n",
       "    <tr>\n",
       "      <th>495</th>\n",
       "      <td>14029</td>\n",
       "      <td>Lower Delta Rd</td>\n",
       "      <td>Blk 105</td>\n",
       "      <td>1.272473</td>\n",
       "      <td>103.824188</td>\n",
       "    </tr>\n",
       "    <tr>\n",
       "      <th>496</th>\n",
       "      <td>14031</td>\n",
       "      <td>Lower Delta Rd</td>\n",
       "      <td>St. Theresa's Convent</td>\n",
       "      <td>1.276243</td>\n",
       "      <td>103.823060</td>\n",
       "    </tr>\n",
       "    <tr>\n",
       "      <th>497</th>\n",
       "      <td>14039</td>\n",
       "      <td>Lower Delta Rd</td>\n",
       "      <td>Opp St. Theresa's Convent</td>\n",
       "      <td>1.276636</td>\n",
       "      <td>103.823458</td>\n",
       "    </tr>\n",
       "    <tr>\n",
       "      <th>498</th>\n",
       "      <td>14041</td>\n",
       "      <td>Henderson Rd</td>\n",
       "      <td>Blk 54</td>\n",
       "      <td>1.273273</td>\n",
       "      <td>103.812471</td>\n",
       "    </tr>\n",
       "    <tr>\n",
       "      <th>499</th>\n",
       "      <td>14049</td>\n",
       "      <td>Henderson Rd</td>\n",
       "      <td>Opp Blk 55</td>\n",
       "      <td>1.273242</td>\n",
       "      <td>103.813042</td>\n",
       "    </tr>\n",
       "  </tbody>\n",
       "</table>\n",
       "<p>500 rows × 5 columns</p>\n",
       "</div>"
      ],
      "text/plain": [
       "    BusStopCode        RoadName                Description  Latitude  \\\n",
       "0         01012     Victoria St        Hotel Grand Pacific  1.296848   \n",
       "1         01013     Victoria St            St. Joseph's Ch  1.297710   \n",
       "2         01019     Victoria St            Bras Basah Cplx  1.296990   \n",
       "3         01029   Nth Bridge Rd               Opp Natl Lib  1.296673   \n",
       "4         01039   Nth Bridge Rd                 Bugis Cube  1.298208   \n",
       "..          ...             ...                        ...       ...   \n",
       "495       14029  Lower Delta Rd                    Blk 105  1.272473   \n",
       "496       14031  Lower Delta Rd      St. Theresa's Convent  1.276243   \n",
       "497       14039  Lower Delta Rd  Opp St. Theresa's Convent  1.276636   \n",
       "498       14041    Henderson Rd                     Blk 54  1.273273   \n",
       "499       14049    Henderson Rd                 Opp Blk 55  1.273242   \n",
       "\n",
       "      Longitude  \n",
       "0    103.852536  \n",
       "1    103.853225  \n",
       "2    103.853022  \n",
       "3    103.854414  \n",
       "4    103.855491  \n",
       "..          ...  \n",
       "495  103.824188  \n",
       "496  103.823060  \n",
       "497  103.823458  \n",
       "498  103.812471  \n",
       "499  103.813042  \n",
       "\n",
       "[500 rows x 5 columns]"
      ]
     },
     "execution_count": 5,
     "metadata": {},
     "output_type": "execute_result"
    }
   ],
   "source": [
    "df_bus_stops"
   ]
  },
  {
   "cell_type": "code",
   "execution_count": 6,
   "metadata": {},
   "outputs": [
    {
     "data": {
      "text/plain": [
       "BusStopCode     object\n",
       "RoadName        object\n",
       "Description     object\n",
       "Latitude       float64\n",
       "Longitude      float64\n",
       "dtype: object"
      ]
     },
     "execution_count": 6,
     "metadata": {},
     "output_type": "execute_result"
    }
   ],
   "source": [
    "df_bus_stops.dtypes"
   ]
  },
  {
   "cell_type": "code",
   "execution_count": 7,
   "metadata": {},
   "outputs": [
    {
     "name": "stdout",
     "output_type": "stream",
     "text": [
      "(500, 5)\n",
      "BusStopCode    0\n",
      "RoadName       0\n",
      "Description    0\n",
      "Latitude       0\n",
      "Longitude      0\n",
      "dtype: int64\n"
     ]
    }
   ],
   "source": [
    "print(df_bus_stops.shape)\n",
    "print(df_bus_stops.isnull().sum())"
   ]
  },
  {
   "cell_type": "code",
   "execution_count": 11,
   "metadata": {},
   "outputs": [],
   "source": [
    "df_bus_stops.to_csv(\"../data/bus_stops.csv\", encoding=\"utf-8\", index=False)"
   ]
  }
 ],
 "metadata": {
  "kernelspec": {
   "display_name": "Python 3.8.8 ('venv': venv)",
   "language": "python",
   "name": "python3"
  },
  "language_info": {
   "codemirror_mode": {
    "name": "ipython",
    "version": 3
   },
   "file_extension": ".py",
   "mimetype": "text/x-python",
   "name": "python",
   "nbconvert_exporter": "python",
   "pygments_lexer": "ipython3",
   "version": "3.8.8"
  },
  "orig_nbformat": 4,
  "vscode": {
   "interpreter": {
    "hash": "5599f31a5a05a46ab9a72ef8950bbb9bc7fb93a2c11505c3d92ffd1cb0e3bcf7"
   }
  }
 },
 "nbformat": 4,
 "nbformat_minor": 2
}
