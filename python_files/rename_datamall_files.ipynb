{
 "cells": [
  {
   "cell_type": "markdown",
   "metadata": {},
   "source": [
    "# Renaming Geospatial Folders retrieved from LTA Datamall\n",
    "\n",
    "Notebook used to rename the folder and file names of data folders retrieved from LTA Datamall. Place the raw folder (containing shapefile data) into the data directory of this project.\n",
    "\n",
    "### Raw Format of Files\n",
    "- Folder name: RoadSectionLine_Jun2022 (Camel Case + Date of Update)\n",
    "- Filenames: RoadSectionLine.shp (Camel Case filenames)\n",
    "\n",
    "### Renamed Files\n",
    "- Folder name: lta_road_section_line (lowercase and same as filenames)\n",
    "- Filenames: lta_road_section_line.shp (lowercase, prefixed by data source)"
   ]
  },
  {
   "cell_type": "code",
   "execution_count": 47,
   "metadata": {},
   "outputs": [],
   "source": [
    "import os\n",
    "import re"
   ]
  },
  {
   "cell_type": "markdown",
   "metadata": {},
   "source": [
    "### Parameters"
   ]
  },
  {
   "cell_type": "code",
   "execution_count": 48,
   "metadata": {},
   "outputs": [],
   "source": [
    "# Data Folder\n",
    "data_directory = os.path.join(os.path.dirname(os.getcwd()), \"data\")\n",
    "\n",
    "# The name of the folder containing the shapefile\n",
    "old_folder_name = \"Footpath_May2022\"\n",
    "\n",
    "# The name of the shapefile (and all the other files in the same folder)\n",
    "old_name = \"Footpath\"\n",
    "\n",
    "# New name to be assigned to all the files and the folder\n",
    "new_name = \"lta_footpath\""
   ]
  },
  {
   "cell_type": "markdown",
   "metadata": {},
   "source": [
    "### Renaming of Folder and Filenames (Based on Parameters)"
   ]
  },
  {
   "cell_type": "code",
   "execution_count": 49,
   "metadata": {},
   "outputs": [
    {
     "name": "stdout",
     "output_type": "stream",
     "text": [
      "Renamed file Footpath.sbn: lta_footpath.sbn\n",
      "Renamed file Footpath.shp.xml: lta_footpath.shp.xml\n",
      "Renamed file Footpath.prj: lta_footpath.prj\n",
      "Renamed file Footpath.lyr: lta_footpath.lyr\n",
      "Renamed file Footpath.sbx: lta_footpath.sbx\n",
      "Renamed file Footpath.shx: lta_footpath.shx\n",
      "Renamed file Footpath.shp: lta_footpath.shp\n",
      "Renamed file Footpath.cpg: lta_footpath.cpg\n",
      "Renamed file Footpath.dbf: lta_footpath.dbf\n",
      "--------------------\n",
      "\n",
      "Renamed folder Footpath_May2022: lta_footpath\n"
     ]
    }
   ],
   "source": [
    "for file in os.listdir(data_directory):\n",
    "    if file == \".DS_Store\" or re.search('(.csv|.geojson)$', file):\n",
    "        continue\n",
    "\n",
    "    if file == old_folder_name:\n",
    "        for subfile in os.listdir(os.path.join(data_directory, file)):                        \n",
    "            new_subfile = subfile.replace(old_name, new_name)\n",
    "            old_subfile_path = os.path.join(data_directory, file, subfile)\n",
    "            new_subfile_path = os.path.join(data_directory, file, new_subfile)\n",
    "            os.rename(old_subfile_path, new_subfile_path)\n",
    "\n",
    "            print(f\"Renamed file {subfile}: {new_subfile}\")\n",
    "        print(\"-\"*20 + \"\\n\")\n",
    "        old_file_path = os.path.join(data_directory, file)\n",
    "        new_file_path = os.path.join(data_directory, new_name)\n",
    "        os.rename(old_file_path, new_file_path)\n",
    "        print(f\"Renamed folder {file}: {new_name}\")\n",
    "        break"
   ]
  }
 ],
 "metadata": {
  "kernelspec": {
   "display_name": "Python 3.8.8 ('venv': venv)",
   "language": "python",
   "name": "python3"
  },
  "language_info": {
   "codemirror_mode": {
    "name": "ipython",
    "version": 3
   },
   "file_extension": ".py",
   "mimetype": "text/x-python",
   "name": "python",
   "nbconvert_exporter": "python",
   "pygments_lexer": "ipython3",
   "version": "3.8.8"
  },
  "orig_nbformat": 4,
  "vscode": {
   "interpreter": {
    "hash": "5599f31a5a05a46ab9a72ef8950bbb9bc7fb93a2c11505c3d92ffd1cb0e3bcf7"
   }
  }
 },
 "nbformat": 4,
 "nbformat_minor": 2
}
