{
 "cells": [
  {
   "cell_type": "markdown",
   "metadata": {},
   "source": [
    "# Convert Skyrise Greenery KML to Shapefile\n",
    "\n",
    "File to convert the Skyrise Greenery KML file into a proper Shapefile using Regular Expressions."
   ]
  },
  {
   "cell_type": "markdown",
   "metadata": {},
   "source": [
    "### Loading Libraries"
   ]
  },
  {
   "cell_type": "code",
   "execution_count": 1,
   "metadata": {},
   "outputs": [],
   "source": [
    "import geopandas as gpd\n",
    "from fiona.drvsupport import supported_drivers\n",
    "import re\n",
    "import pandas as pd\n",
    "from utility import export_df_to_shapefile"
   ]
  },
  {
   "cell_type": "markdown",
   "metadata": {},
   "source": [
    "### Load Raw Dataset"
   ]
  },
  {
   "cell_type": "code",
   "execution_count": 2,
   "metadata": {},
   "outputs": [],
   "source": [
    "supported_drivers['KML'] = 'rw'\n",
    "df = gpd.read_file('../data/nparks-skyrise-greenery-kml.kml', driver='KML')"
   ]
  },
  {
   "cell_type": "markdown",
   "metadata": {},
   "source": [
    "The Description column contains attributes stored in HTML Format"
   ]
  },
  {
   "cell_type": "code",
   "execution_count": 3,
   "metadata": {},
   "outputs": [
    {
     "data": {
      "text/html": [
       "<div>\n",
       "<style scoped>\n",
       "    .dataframe tbody tr th:only-of-type {\n",
       "        vertical-align: middle;\n",
       "    }\n",
       "\n",
       "    .dataframe tbody tr th {\n",
       "        vertical-align: top;\n",
       "    }\n",
       "\n",
       "    .dataframe thead th {\n",
       "        text-align: right;\n",
       "    }\n",
       "</style>\n",
       "<table border=\"1\" class=\"dataframe\">\n",
       "  <thead>\n",
       "    <tr style=\"text-align: right;\">\n",
       "      <th></th>\n",
       "      <th>Name</th>\n",
       "      <th>Description</th>\n",
       "      <th>geometry</th>\n",
       "    </tr>\n",
       "  </thead>\n",
       "  <tbody>\n",
       "    <tr>\n",
       "      <th>0</th>\n",
       "      <td>kml_1</td>\n",
       "      <td>&lt;center&gt;&lt;table&gt;&lt;tr&gt;&lt;th colspan='2' align='cent...</td>\n",
       "      <td>POINT Z (103.86007 1.29945 0.00000)</td>\n",
       "    </tr>\n",
       "    <tr>\n",
       "      <th>1</th>\n",
       "      <td>kml_2</td>\n",
       "      <td>&lt;center&gt;&lt;table&gt;&lt;tr&gt;&lt;th colspan='2' align='cent...</td>\n",
       "      <td>POINT Z (103.85561 1.31063 0.00000)</td>\n",
       "    </tr>\n",
       "    <tr>\n",
       "      <th>2</th>\n",
       "      <td>kml_3</td>\n",
       "      <td>&lt;center&gt;&lt;table&gt;&lt;tr&gt;&lt;th colspan='2' align='cent...</td>\n",
       "      <td>POINT Z (103.85649 1.31139 0.00000)</td>\n",
       "    </tr>\n",
       "    <tr>\n",
       "      <th>3</th>\n",
       "      <td>kml_4</td>\n",
       "      <td>&lt;center&gt;&lt;table&gt;&lt;tr&gt;&lt;th colspan='2' align='cent...</td>\n",
       "      <td>POINT Z (103.85796 1.32109 0.00000)</td>\n",
       "    </tr>\n",
       "    <tr>\n",
       "      <th>4</th>\n",
       "      <td>kml_5</td>\n",
       "      <td>&lt;center&gt;&lt;table&gt;&lt;tr&gt;&lt;th colspan='2' align='cent...</td>\n",
       "      <td>POINT Z (103.86622 1.32076 0.00000)</td>\n",
       "    </tr>\n",
       "  </tbody>\n",
       "</table>\n",
       "</div>"
      ],
      "text/plain": [
       "    Name                                        Description  \\\n",
       "0  kml_1  <center><table><tr><th colspan='2' align='cent...   \n",
       "1  kml_2  <center><table><tr><th colspan='2' align='cent...   \n",
       "2  kml_3  <center><table><tr><th colspan='2' align='cent...   \n",
       "3  kml_4  <center><table><tr><th colspan='2' align='cent...   \n",
       "4  kml_5  <center><table><tr><th colspan='2' align='cent...   \n",
       "\n",
       "                              geometry  \n",
       "0  POINT Z (103.86007 1.29945 0.00000)  \n",
       "1  POINT Z (103.85561 1.31063 0.00000)  \n",
       "2  POINT Z (103.85649 1.31139 0.00000)  \n",
       "3  POINT Z (103.85796 1.32109 0.00000)  \n",
       "4  POINT Z (103.86622 1.32076 0.00000)  "
      ]
     },
     "execution_count": 3,
     "metadata": {},
     "output_type": "execute_result"
    }
   ],
   "source": [
    "df.head()"
   ]
  },
  {
   "cell_type": "code",
   "execution_count": 4,
   "metadata": {},
   "outputs": [
    {
     "data": {
      "text/plain": [
       "'<center><table><tr><th colspan=\\'2\\' align=\\'center\\'><em>Attributes</em></th></tr><tr bgcolor=\"#E3E3F3\"> <th>Y</th> <td>31312.5274</td> </tr><tr bgcolor=\"\"> <th>X</th> <td>30977.219626</td> </tr><tr bgcolor=\"#E3E3F3\"> <th>POSTAL_CODE</th> <td>199591</td> </tr><tr bgcolor=\"\"> <th>GARDENID</th> <td>97</td> </tr><tr bgcolor=\"#E3E3F3\"> <th>ADDRESS</th> <td>7500A Beach Road Singapore 199591</td> </tr><tr bgcolor=\"\"> <th>PROJECT_NAME</th> <td>Parkroyal on Beach Road</td> </tr><tr bgcolor=\"#E3E3F3\"> <th>INC_CRC</th> <td>30DE7C10E49125D2</td> </tr><tr bgcolor=\"\"> <th>FMEL_UPD_D</th> <td>20160317140030</td> </tr></table></center>'"
      ]
     },
     "execution_count": 4,
     "metadata": {},
     "output_type": "execute_result"
    }
   ],
   "source": [
    "df.loc[0, \"Description\"]"
   ]
  },
  {
   "cell_type": "markdown",
   "metadata": {},
   "source": [
    "### Transforming the HTML Description using Regular Expressions\n",
    "\n",
    "Note a very <em>elegant</em> approach but works for this dataset"
   ]
  },
  {
   "cell_type": "code",
   "execution_count": 5,
   "metadata": {},
   "outputs": [],
   "source": [
    "dct_name_X = {}\n",
    "dct_name_Y = {}\n",
    "dct_name_postal_code = {}\n",
    "dct_name_gardenid = {}\n",
    "dct_name_address = {}\n",
    "dct_name_project_name = {}\n",
    "dct_name_inc_crc = {}\n",
    "dct_name_fmel_upd_d = {}\n",
    "\n",
    "\n",
    "for idx, row in df.iterrows():\n",
    "    text = row[\"Description\"]\n",
    "\n",
    "    re_tags_to_remove = [\n",
    "        \"<[/]*center>\",\n",
    "        \"<[/]*table>\",\n",
    "        \"<[/]*em>\",\n",
    "        \"<[/]*th\\s*[\\w,\\d,\\#,\\=,\\\",\\',\\s]*>\",\n",
    "        \"<tr>Attributes</tr>\",\n",
    "        \",\"\n",
    "    ]\n",
    "    for regex in re_tags_to_remove:\n",
    "        text = re.sub(regex, \"\", text)\n",
    "\n",
    "    text = text.strip()\n",
    "    text = re.sub(r\"<tr\\s*[\\w,\\d,\\#,\\=,\\\",\\']*>\", \"<tr>\", text)\n",
    "\n",
    "    re_tags_to_replace = {\n",
    "        \"\\s*<[/]*tr>\\s*\" : \"\",\n",
    "        \"\\s*<td>\\s*\" : \":\",\n",
    "        \"\\s*</td>\\s*\" : \", \",\n",
    "    }\n",
    "    for old_regex, new_regex in re_tags_to_replace.items():\n",
    "        text = re.sub(old_regex, new_regex, text)\n",
    "\n",
    "    lst_of_attributes = text.split(\", \")\n",
    "    dct_of_attributes = {i.split(\":\")[0]:i.split(\":\")[1] for i in lst_of_attributes if i != \"\"}\n",
    "\n",
    "    dct_name_X[row[\"Name\"]] = dct_of_attributes[\"X\"]\n",
    "    dct_name_Y[row[\"Name\"]] = dct_of_attributes[\"Y\"]\n",
    "    dct_name_postal_code[row[\"Name\"]] = dct_of_attributes[\"POSTAL_CODE\"]\n",
    "    dct_name_gardenid[row[\"Name\"]] = dct_of_attributes[\"GARDENID\"]\n",
    "    dct_name_address[row[\"Name\"]] = dct_of_attributes[\"ADDRESS\"]\n",
    "    dct_name_project_name[row[\"Name\"]] = dct_of_attributes[\"PROJECT_NAME\"]\n",
    "    dct_name_inc_crc[row[\"Name\"]] = dct_of_attributes[\"INC_CRC\"]\n",
    "    dct_name_fmel_upd_d[row[\"Name\"]] = dct_of_attributes[\"FMEL_UPD_D\"]"
   ]
  },
  {
   "cell_type": "code",
   "execution_count": 6,
   "metadata": {},
   "outputs": [],
   "source": [
    "df[\"X\"] = df[\"Name\"].map(dct_name_X)\n",
    "df[\"Y\"] = df[\"Name\"].map(dct_name_Y)\n",
    "df[\"POSTAL_CODE\"] = df[\"Name\"].map(dct_name_postal_code)\n",
    "df[\"GARDENID\"] = df[\"Name\"].map(dct_name_gardenid)\n",
    "df[\"ADDRESS\"] = df[\"Name\"].map(dct_name_address)\n",
    "df[\"PROJECT_NAME\"] = df[\"Name\"].map(dct_name_project_name)\n",
    "df[\"INC_CRC\"] = df[\"Name\"].map(dct_name_inc_crc)\n",
    "df[\"FMEL_UPD_D\"] = df[\"Name\"].map(dct_name_fmel_upd_d)\n",
    "\n",
    "df.drop(columns=[\"Name\", \"Description\"], inplace=True)"
   ]
  },
  {
   "cell_type": "markdown",
   "metadata": {},
   "source": [
    "### Final Form\n",
    "\n",
    "Note that column names longer than 10 characters will be truncated in a Shapefile"
   ]
  },
  {
   "cell_type": "code",
   "execution_count": 7,
   "metadata": {},
   "outputs": [
    {
     "name": "stderr",
     "output_type": "stream",
     "text": [
      "/Users/Chin2/Documents/Y4S1/BT4015/project/python_files/utility.py:180: UserWarning: Column names longer than 10 characters will be truncated when saved to ESRI Shapefile.\n",
      "  gdf.to_file(f\"../data/{filename}/{filename}.shp\")\n"
     ]
    }
   ],
   "source": [
    "gdf = export_df_to_shapefile(df, \"skyrise_greenery\")"
   ]
  },
  {
   "cell_type": "code",
   "execution_count": 9,
   "metadata": {},
   "outputs": [
    {
     "data": {
      "text/html": [
       "<div>\n",
       "<style scoped>\n",
       "    .dataframe tbody tr th:only-of-type {\n",
       "        vertical-align: middle;\n",
       "    }\n",
       "\n",
       "    .dataframe tbody tr th {\n",
       "        vertical-align: top;\n",
       "    }\n",
       "\n",
       "    .dataframe thead th {\n",
       "        text-align: right;\n",
       "    }\n",
       "</style>\n",
       "<table border=\"1\" class=\"dataframe\">\n",
       "  <thead>\n",
       "    <tr style=\"text-align: right;\">\n",
       "      <th></th>\n",
       "      <th>geometry</th>\n",
       "      <th>X</th>\n",
       "      <th>Y</th>\n",
       "      <th>POSTAL_CODE</th>\n",
       "      <th>GARDENID</th>\n",
       "      <th>ADDRESS</th>\n",
       "      <th>PROJECT_NAME</th>\n",
       "      <th>INC_CRC</th>\n",
       "      <th>FMEL_UPD_D</th>\n",
       "    </tr>\n",
       "  </thead>\n",
       "  <tbody>\n",
       "    <tr>\n",
       "      <th>63</th>\n",
       "      <td>POINT Z (103.85178 1.36359 0.00000)</td>\n",
       "      <td>30055.028729999998</td>\n",
       "      <td>38404.803100000005</td>\n",
       "      <td>560336</td>\n",
       "      <td>7</td>\n",
       "      <td>336 Ang Mo Kio Avenue 1 Singapore 560336</td>\n",
       "      <td>HDB Residential</td>\n",
       "      <td>3D0AF3A4BB392780</td>\n",
       "      <td>20160317140030</td>\n",
       "    </tr>\n",
       "    <tr>\n",
       "      <th>246</th>\n",
       "      <td>POINT Z (103.77395 1.30532 0.00000)</td>\n",
       "      <td>21392.704713</td>\n",
       "      <td>31961.4337</td>\n",
       "      <td>138601</td>\n",
       "      <td>193</td>\n",
       "      <td>36 College Avenue East Sinvapore 138601</td>\n",
       "      <td>NUS U-Town Hall of Residence</td>\n",
       "      <td>CEAF2DBCC1BB5935</td>\n",
       "      <td>20160317140030</td>\n",
       "    </tr>\n",
       "    <tr>\n",
       "      <th>102</th>\n",
       "      <td>POINT Z (103.85000 1.28492 0.00000)</td>\n",
       "      <td>29856.376146</td>\n",
       "      <td>29705.812100000003</td>\n",
       "      <td>48692</td>\n",
       "      <td>53</td>\n",
       "      <td>1 Philip Street Singapore 048692</td>\n",
       "      <td>Lippo Centre</td>\n",
       "      <td>75CEB86F7BE78847</td>\n",
       "      <td>20160317140030</td>\n",
       "    </tr>\n",
       "    <tr>\n",
       "      <th>326</th>\n",
       "      <td>POINT Z (103.87654 1.39038 0.00000)</td>\n",
       "      <td>32810.498573</td>\n",
       "      <td>41366.4732</td>\n",
       "      <td>790410</td>\n",
       "      <td>309</td>\n",
       "      <td>410 Fernvale Road Singapore 790410</td>\n",
       "      <td>MSCP</td>\n",
       "      <td>6D466AA181386C92</td>\n",
       "      <td>20160317140030</td>\n",
       "    </tr>\n",
       "    <tr>\n",
       "      <th>207</th>\n",
       "      <td>POINT Z (103.90304 1.30414 0.00000)</td>\n",
       "      <td>35759.461373</td>\n",
       "      <td>31831.2353</td>\n",
       "      <td>428762</td>\n",
       "      <td>442</td>\n",
       "      <td>42 East Coast Road Singapore 428762</td>\n",
       "      <td>MODA Condominium</td>\n",
       "      <td>6BCBC9BE76909267</td>\n",
       "      <td>20160317140030</td>\n",
       "    </tr>\n",
       "  </tbody>\n",
       "</table>\n",
       "</div>"
      ],
      "text/plain": [
       "                                geometry                   X  \\\n",
       "63   POINT Z (103.85178 1.36359 0.00000)  30055.028729999998   \n",
       "246  POINT Z (103.77395 1.30532 0.00000)        21392.704713   \n",
       "102  POINT Z (103.85000 1.28492 0.00000)        29856.376146   \n",
       "326  POINT Z (103.87654 1.39038 0.00000)        32810.498573   \n",
       "207  POINT Z (103.90304 1.30414 0.00000)        35759.461373   \n",
       "\n",
       "                      Y POSTAL_CODE GARDENID  \\\n",
       "63   38404.803100000005      560336        7   \n",
       "246          31961.4337      138601      193   \n",
       "102  29705.812100000003       48692       53   \n",
       "326          41366.4732      790410      309   \n",
       "207          31831.2353      428762      442   \n",
       "\n",
       "                                      ADDRESS                  PROJECT_NAME  \\\n",
       "63   336 Ang Mo Kio Avenue 1 Singapore 560336               HDB Residential   \n",
       "246   36 College Avenue East Sinvapore 138601  NUS U-Town Hall of Residence   \n",
       "102          1 Philip Street Singapore 048692                  Lippo Centre   \n",
       "326        410 Fernvale Road Singapore 790410                          MSCP   \n",
       "207       42 East Coast Road Singapore 428762              MODA Condominium   \n",
       "\n",
       "              INC_CRC      FMEL_UPD_D  \n",
       "63   3D0AF3A4BB392780  20160317140030  \n",
       "246  CEAF2DBCC1BB5935  20160317140030  \n",
       "102  75CEB86F7BE78847  20160317140030  \n",
       "326  6D466AA181386C92  20160317140030  \n",
       "207  6BCBC9BE76909267  20160317140030  "
      ]
     },
     "execution_count": 9,
     "metadata": {},
     "output_type": "execute_result"
    }
   ],
   "source": [
    "gdf.sample(5)"
   ]
  }
 ],
 "metadata": {
  "kernelspec": {
   "display_name": "Python 3.8.8 ('venv': venv)",
   "language": "python",
   "name": "python3"
  },
  "language_info": {
   "codemirror_mode": {
    "name": "ipython",
    "version": 3
   },
   "file_extension": ".py",
   "mimetype": "text/x-python",
   "name": "python",
   "nbconvert_exporter": "python",
   "pygments_lexer": "ipython3",
   "version": "3.8.8"
  },
  "orig_nbformat": 4,
  "vscode": {
   "interpreter": {
    "hash": "5599f31a5a05a46ab9a72ef8950bbb9bc7fb93a2c11505c3d92ffd1cb0e3bcf7"
   }
  }
 },
 "nbformat": 4,
 "nbformat_minor": 2
}
